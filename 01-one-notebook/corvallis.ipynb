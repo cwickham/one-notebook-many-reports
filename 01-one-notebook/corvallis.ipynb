{
 "cells": [
  {
   "cell_type": "raw",
   "metadata": {
    "editable": true,
    "raw_mimetype": "",
    "slideshow": {
     "slide_type": ""
    },
    "tags": [],
    "vscode": {
     "languageId": "raw"
    }
   },
   "source": [
    "---\n",
    "format: typst\n",
    "echo: false\n",
    "execute:\n",
    "  enabled: true\n",
    "---"
   ]
  },
  {
   "cell_type": "markdown",
   "metadata": {},
   "source": [
    "# Corvallis"
   ]
  },
  {
   "cell_type": "code",
   "execution_count": null,
   "metadata": {

   },
   "outputs": [],
   "source": [
    "import polars as pl\n",
    "from plotnine import *\n",
    "from datetime import date\n",
    "from calendar import month_name, month_abbr\n",
    "from IPython.display import Markdown"
   ]
  },
  {
   "cell_type": "code",
   "execution_count": null,
   "metadata": {},
   "outputs": [],
   "source": [
    "this_month = date(2025, 5, 1)\n",
    "highlight_color = \"#FF5733\" "
   ]
  },
  {
   "cell_type": "code",
   "execution_count": null,
   "metadata": {},
   "outputs": [],
   "source": [
    "tmean_oregon = pl.read_csv(\"data/tmean-oregon.csv\", schema_overrides={\"date\": pl.Date})\n",
    "tmean = tmean_oregon.filter(\n",
    "    pl.col(\"city\") == \"Corvallis\",\n",
    ")"
   ]
  },
  {
   "cell_type": "code",
   "execution_count": null,
   "metadata": {},
   "outputs": [],
   "source": [
    "#| include: false\n",
    "tmean.head()"
   ]
  },
  {
   "cell_type": "code",
   "execution_count": null,
   "metadata": {},
   "outputs": [],
   "source": [
    "this = tmean.filter(pl.col(\"date\") == this_month).row(0, named=True)\n",
    "Markdown(f\"{month_name[this['month']]} {this['year']} was {abs(this['tmean_diff']):.1f}°C {this['tmean_direction']} than usual.\")\n"
   ]
  },
  {
   "cell_type": "code",
   "execution_count": null,
   "metadata": {},
   "outputs": [],
   "source": [
    "(\n",
    "    ggplot(tmean, aes(x=\"month\", y=\"tmean\"))\n",
    "    + geom_line(aes(group=\"year\"), alpha=0.2)\n",
    "    + geom_line(aes(y = \"tmean_normal\"))\n",
    "    + geom_line(data=tmean.filter(pl.col(\"year\") == 2025), color=highlight_color)\n",
    "    + geom_point(\n",
    "        data=tmean.filter(pl.col(\"date\") == this_month), color=highlight_color\n",
    "    )\n",
    "    + scale_x_continuous(breaks=list(range(1, 13)), labels=list(month_abbr[1:]))\n",
    "    + labs(title = \"Corvallis, OR\", x=\"\", y=\"Mean Temperature (°C)\")\n",
    "    + theme_bw() \n",
    "    + theme(figure_size = (8, 4))\n",
    ")"
   ]
  }
 ],
 "metadata": {
  "kernelspec": {
   "display_name": "Python 3 (ipykernel)",
   "language": "python",
   "name": "python3"
  },
  "language_info": {
   "name": "python"
  }
 },
 "nbformat": 4,
 "nbformat_minor": 4
}
