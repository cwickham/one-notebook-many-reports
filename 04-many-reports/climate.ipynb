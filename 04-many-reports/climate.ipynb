{
  "cells": [
    {
      "cell_type": "markdown",
      "metadata": {},
      "source": [
        "---\n",
        "format: typst\n",
        "echo: false\n",
        "jupyter: python3\n",
        "---"
      ]
    },
    {
      "cell_type": "code",
      "metadata": {
        "tags": [
          "parameters"
        ]
      },
      "source": [
        "city = \"Corvallis\""
      ],
      "execution_count": null,
      "outputs": []
    },
    {
      "cell_type": "code",
      "metadata": {},
      "source": [
        "from IPython.display import Markdown\n",
        "Markdown(f\"# {city}\")"
      ],
      "execution_count": null,
      "outputs": []
    },
    {
      "cell_type": "code",
      "metadata": {},
      "source": [
        "import polars as pl\n",
        "from plotnine import *\n",
        "from datetime import date\n",
        "from calendar import month_name, month_abbr"
      ],
      "execution_count": null,
      "outputs": []
    },
    {
      "cell_type": "code",
      "metadata": {},
      "source": [
        "this_month = date(2025, 5, 1)\n",
        "highlight_color = \"#FF5733\" # A bright color for highlighting"
      ],
      "execution_count": null,
      "outputs": []
    },
    {
      "cell_type": "code",
      "metadata": {},
      "source": [
        "tmean_oregon = pl.read_csv(\"data/tmean-oregon.csv\", schema_overrides={\"date\": pl.Date})\n",
        "tmean = tmean_oregon.filter(\n",
        "    pl.col(\"city\") == city,\n",
        ")"
      ],
      "execution_count": null,
      "outputs": []
    },
    {
      "cell_type": "code",
      "metadata": {},
      "source": [
        "#| include: false\n",
        "\n",
        "tmean.head()"
      ],
      "execution_count": null,
      "outputs": []
    },
    {
      "cell_type": "code",
      "metadata": {},
      "source": [
        "this = tmean.filter(pl.col(\"date\") == this_month).row(0, named=True)\n",
        "Markdown(f\"{month_name[this['month']]} {this['year']} was {abs(this['tmean_diff']):.1f}°C {this['tmean_direction']} than usual.\")"
      ],
      "execution_count": null,
      "outputs": []
    },
    {
      "cell_type": "code",
      "metadata": {},
      "source": [
        "(\n",
        "    ggplot(tmean, aes(x=\"month\", y=\"tmean\"))\n",
        "    + geom_line(aes(group=\"year\"), alpha=0.2)\n",
        "    + geom_line(aes(y = \"tmean_normal\"))\n",
        "    + geom_line(data=tmean.filter(pl.col(\"year\") == 2025), color=highlight_color)\n",
        "    + geom_point(\n",
        "        data=tmean.filter(pl.col(\"date\") == this_month), color=highlight_color\n",
        "    )\n",
        "    + scale_x_continuous(breaks=list(range(1, 13)), labels=list(month_abbr[1:]))\n",
        "    + labs(title = f\"{city}, OR\", x=\"\", y=\"Mean Temperature (°C)\")\n",
        "    + theme_bw() \n",
        "    + theme(figure_size = (8, 4))\n",
        ")"
      ],
      "execution_count": null,
      "outputs": []
    }
  ],
  "metadata": {
    "kernelspec": {
      "name": "python3",
      "language": "python",
      "display_name": "Python 3 (ipykernel)",
      "path": "/Users/charlottewickham/Documents/posit/scipy-talk/.venv/share/jupyter/kernels/python3"
    }
  },
  "nbformat": 4,
  "nbformat_minor": 4
}