{
 "cells": [
  {
   "cell_type": "markdown",
   "metadata": {},
   "source": [
    "---\n",
    "format: \n",
    "  typst: default\n",
    "  html: default\n",
    "echo: false\n",
    "jupyter: python3\n",
    "---"
   ]
  },
  {
   "cell_type": "code",
   "execution_count": null,
   "metadata": {
    "tags": [
     "parameters"
    ]
   },
   "outputs": [],
   "source": [
    "city = \"Corvallis\""
   ]
  },
  {
   "cell_type": "code",
   "execution_count": null,
   "metadata": {},
   "outputs": [],
   "source": [
    "from IPython.display import Markdown\n",
    "Markdown(f\"# {city}\")"
   ]
  },
  {
   "cell_type": "code",
   "execution_count": null,
   "metadata": {},
   "outputs": [],
   "source": [
    "import polars as pl\n",
    "from plotnine import *\n",
    "from datetime import date\n",
    "from calendar import month_name, month_abbr\n",
    "from pyhere import here"
   ]
  },
  {
   "cell_type": "code",
   "execution_count": null,
   "metadata": {},
   "outputs": [],
   "source": [
    "this_month = date(2025, 5, 1)\n",
    "highlight_color = \"#FF5733\" # A bright color for highlighting"
   ]
  },
  {
   "cell_type": "code",
   "execution_count": null,
   "metadata": {},
   "outputs": [],
   "source": [
    "tmean_oregon = pl.read_csv(here(\"data\", \"tmean-oregon.csv\"), schema_overrides={\"date\": pl.Date})\n",
    "tmean = tmean_oregon.filter(\n",
    "    pl.col(\"city\") == city,\n",
    ")"
   ]
  },
  {
   "cell_type": "code",
   "execution_count": null,
   "metadata": {},
   "outputs": [],
   "source": [
    "#| include: false\n",
    "\n",
    "tmean.head()"
   ]
  },
  {
   "cell_type": "code",
   "execution_count": null,
   "metadata": {},
   "outputs": [],
   "source": [
    "this = tmean.filter(pl.col(\"date\") == this_month).row(0, named=True)\n",
    "Markdown(f\"{month_name[this['month']]} {this['year']} was {abs(this['tmean_diff']):.1f}°C {this['tmean_direction']} than usual.\")"
   ]
  },
  {
   "cell_type": "code",
   "execution_count": null,
   "metadata": {},
   "outputs": [],
   "source": [
    "(\n",
    "    ggplot(tmean, aes(x=\"month\", y=\"tmean\"))\n",
    "    + geom_line(aes(group=\"year\"), alpha=0.2)\n",
    "    + geom_line(aes(y = \"tmean_normal\"))\n",
    "    + geom_line(data=tmean.filter(pl.col(\"year\") == 2025), color=highlight_color)\n",
    "    + geom_point(\n",
    "        data=tmean.filter(pl.col(\"date\") == this_month), color=highlight_color\n",
    "    )\n",
    "    + scale_x_continuous(breaks=list(range(1, 13)), labels=list(month_abbr[1:]))\n",
    "    + labs(title = f\"{city}, OR\", x=\"\", y=\"Mean Temperature (°C)\")\n",
    "    + theme_bw() \n",
    "    + theme(figure_size = (8, 4))\n",
    ")"
   ]
  }
 ],
 "metadata": {
  "kernelspec": {
   "display_name": "Python 3 (ipykernel)",
   "language": "python",
   "name": "python3",
   "path": "/Users/charlottewickham/Documents/posit/scipy-talk/.venv/share/jupyter/kernels/python3"
  },
  "language_info": {
   "codemirror_mode": {
    "name": "ipython",
    "version": 3
   },
   "file_extension": ".py",
   "mimetype": "text/x-python",
   "name": "python",
   "nbconvert_exporter": "python",
   "pygments_lexer": "ipython3",
   "version": "3.13.2"
  }
 },
 "nbformat": 4,
 "nbformat_minor": 4
}
